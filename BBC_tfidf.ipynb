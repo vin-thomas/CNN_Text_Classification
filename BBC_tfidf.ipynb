{
  "nbformat": 4,
  "nbformat_minor": 0,
  "metadata": {
    "colab": {
      "name": "BBC_tfidf.ipynb",
      "provenance": [],
      "collapsed_sections": [],
      "include_colab_link": true
    },
    "language_info": {
      "name": "python"
    },
    "kernelspec": {
      "name": "python3",
      "display_name": "Python 3"
    }
  },
  "cells": [
    {
      "cell_type": "markdown",
      "metadata": {
        "id": "view-in-github",
        "colab_type": "text"
      },
      "source": [
        "<a href=\"https://colab.research.google.com/github/vin-thomas/CNN_Text_Classification/blob/master/BBC_tfidf.ipynb\" target=\"_parent\"><img src=\"https://colab.research.google.com/assets/colab-badge.svg\" alt=\"Open In Colab\"/></a>"
      ]
    },
    {
      "cell_type": "markdown",
      "metadata": {
        "id": "-h4oIrgOKMk0"
      },
      "source": [
        "# Problem-solving with ML: automatic document classification"
      ]
    },
    {
      "cell_type": "markdown",
      "metadata": {
        "id": "uC-HA3VhKf3_"
      },
      "source": [
        "This notebook covers the material discussed in the [\"Problem-solving with ML: automatic document classification\"](https://cloud.google.com/blog/big-data/2018/01/problem-solving-with-ml-automatic-document-classification) blog post.\n",
        "\n",
        "If you are not familiar with Python and Colab, or similar notebooks (Jupyter, Google DataLab), check [this brief pre-work notebook](https://colab.research.google.com/notebook#fileId=1hja-JpW5ZgMRU3B5X1oX1BVACTHvVbh9) showing how these tools can be used for data analysis."
      ]
    },
    {
      "cell_type": "markdown",
      "metadata": {
        "id": "EUVuHVE9ePTL"
      },
      "source": [
        "## 1. Data input and pre-processing\n",
        "\n",
        "We are loading this dataset locally, as a CSV file, and adding a column encoding the category as an integer (categorical variables are often better represented by integers than strings).\n",
        "The dataset can also be downloaded from [its original source](http://mlg.ucd.ie/datasets/bbc.html)."
      ]
    },
    {
      "cell_type": "code",
      "metadata": {
        "id": "JFMm799HKMlu"
      },
      "source": [
        "import pandas as pd\n",
        "import os\n",
        "import glob\n",
        "import numpy as np"
      ],
      "execution_count": null,
      "outputs": []
    },
    {
      "cell_type": "code",
      "metadata": {
        "id": "pLDKrqMMzmxq",
        "colab": {
          "resources": {
            "http://localhost:8080/nbextensions/google.colab/files.js": {
              "data": "Ly8gQ29weXJpZ2h0IDIwMTcgR29vZ2xlIExMQwovLwovLyBMaWNlbnNlZCB1bmRlciB0aGUgQXBhY2hlIExpY2Vuc2UsIFZlcnNpb24gMi4wICh0aGUgIkxpY2Vuc2UiKTsKLy8geW91IG1heSBub3QgdXNlIHRoaXMgZmlsZSBleGNlcHQgaW4gY29tcGxpYW5jZSB3aXRoIHRoZSBMaWNlbnNlLgovLyBZb3UgbWF5IG9idGFpbiBhIGNvcHkgb2YgdGhlIExpY2Vuc2UgYXQKLy8KLy8gICAgICBodHRwOi8vd3d3LmFwYWNoZS5vcmcvbGljZW5zZXMvTElDRU5TRS0yLjAKLy8KLy8gVW5sZXNzIHJlcXVpcmVkIGJ5IGFwcGxpY2FibGUgbGF3IG9yIGFncmVlZCB0byBpbiB3cml0aW5nLCBzb2Z0d2FyZQovLyBkaXN0cmlidXRlZCB1bmRlciB0aGUgTGljZW5zZSBpcyBkaXN0cmlidXRlZCBvbiBhbiAiQVMgSVMiIEJBU0lTLAovLyBXSVRIT1VUIFdBUlJBTlRJRVMgT1IgQ09ORElUSU9OUyBPRiBBTlkgS0lORCwgZWl0aGVyIGV4cHJlc3Mgb3IgaW1wbGllZC4KLy8gU2VlIHRoZSBMaWNlbnNlIGZvciB0aGUgc3BlY2lmaWMgbGFuZ3VhZ2UgZ292ZXJuaW5nIHBlcm1pc3Npb25zIGFuZAovLyBsaW1pdGF0aW9ucyB1bmRlciB0aGUgTGljZW5zZS4KCi8qKgogKiBAZmlsZW92ZXJ2aWV3IEhlbHBlcnMgZm9yIGdvb2dsZS5jb2xhYiBQeXRob24gbW9kdWxlLgogKi8KKGZ1bmN0aW9uKHNjb3BlKSB7CmZ1bmN0aW9uIHNwYW4odGV4dCwgc3R5bGVBdHRyaWJ1dGVzID0ge30pIHsKICBjb25zdCBlbGVtZW50ID0gZG9jdW1lbnQuY3JlYXRlRWxlbWVudCgnc3BhbicpOwogIGVsZW1lbnQudGV4dENvbnRlbnQgPSB0ZXh0OwogIGZvciAoY29uc3Qga2V5IG9mIE9iamVjdC5rZXlzKHN0eWxlQXR0cmlidXRlcykpIHsKICAgIGVsZW1lbnQuc3R5bGVba2V5XSA9IHN0eWxlQXR0cmlidXRlc1trZXldOwogIH0KICByZXR1cm4gZWxlbWVudDsKfQoKLy8gTWF4IG51bWJlciBvZiBieXRlcyB3aGljaCB3aWxsIGJlIHVwbG9hZGVkIGF0IGEgdGltZS4KY29uc3QgTUFYX1BBWUxPQURfU0laRSA9IDEwMCAqIDEwMjQ7CgpmdW5jdGlvbiBfdXBsb2FkRmlsZXMoaW5wdXRJZCwgb3V0cHV0SWQpIHsKICBjb25zdCBzdGVwcyA9IHVwbG9hZEZpbGVzU3RlcChpbnB1dElkLCBvdXRwdXRJZCk7CiAgY29uc3Qgb3V0cHV0RWxlbWVudCA9IGRvY3VtZW50LmdldEVsZW1lbnRCeUlkKG91dHB1dElkKTsKICAvLyBDYWNoZSBzdGVwcyBvbiB0aGUgb3V0cHV0RWxlbWVudCB0byBtYWtlIGl0IGF2YWlsYWJsZSBmb3IgdGhlIG5leHQgY2FsbAogIC8vIHRvIHVwbG9hZEZpbGVzQ29udGludWUgZnJvbSBQeXRob24uCiAgb3V0cHV0RWxlbWVudC5zdGVwcyA9IHN0ZXBzOwoKICByZXR1cm4gX3VwbG9hZEZpbGVzQ29udGludWUob3V0cHV0SWQpOwp9CgovLyBUaGlzIGlzIHJvdWdobHkgYW4gYXN5bmMgZ2VuZXJhdG9yIChub3Qgc3VwcG9ydGVkIGluIHRoZSBicm93c2VyIHlldCksCi8vIHdoZXJlIHRoZXJlIGFyZSBtdWx0aXBsZSBhc3luY2hyb25vdXMgc3RlcHMgYW5kIHRoZSBQeXRob24gc2lkZSBpcyBnb2luZwovLyB0byBwb2xsIGZvciBjb21wbGV0aW9uIG9mIGVhY2ggc3RlcC4KLy8gVGhpcyB1c2VzIGEgUHJvbWlzZSB0byBibG9jayB0aGUgcHl0aG9uIHNpZGUgb24gY29tcGxldGlvbiBvZiBlYWNoIHN0ZXAsCi8vIHRoZW4gcGFzc2VzIHRoZSByZXN1bHQgb2YgdGhlIHByZXZpb3VzIHN0ZXAgYXMgdGhlIGlucHV0IHRvIHRoZSBuZXh0IHN0ZXAuCmZ1bmN0aW9uIF91cGxvYWRGaWxlc0NvbnRpbnVlKG91dHB1dElkKSB7CiAgY29uc3Qgb3V0cHV0RWxlbWVudCA9IGRvY3VtZW50LmdldEVsZW1lbnRCeUlkKG91dHB1dElkKTsKICBjb25zdCBzdGVwcyA9IG91dHB1dEVsZW1lbnQuc3RlcHM7CgogIGNvbnN0IG5leHQgPSBzdGVwcy5uZXh0KG91dHB1dEVsZW1lbnQubGFzdFByb21pc2VWYWx1ZSk7CiAgcmV0dXJuIFByb21pc2UucmVzb2x2ZShuZXh0LnZhbHVlLnByb21pc2UpLnRoZW4oKHZhbHVlKSA9PiB7CiAgICAvLyBDYWNoZSB0aGUgbGFzdCBwcm9taXNlIHZhbHVlIHRvIG1ha2UgaXQgYXZhaWxhYmxlIHRvIHRoZSBuZXh0CiAgICAvLyBzdGVwIG9mIHRoZSBnZW5lcmF0b3IuCiAgICBvdXRwdXRFbGVtZW50Lmxhc3RQcm9taXNlVmFsdWUgPSB2YWx1ZTsKICAgIHJldHVybiBuZXh0LnZhbHVlLnJlc3BvbnNlOwogIH0pOwp9CgovKioKICogR2VuZXJhdG9yIGZ1bmN0aW9uIHdoaWNoIGlzIGNhbGxlZCBiZXR3ZWVuIGVhY2ggYXN5bmMgc3RlcCBvZiB0aGUgdXBsb2FkCiAqIHByb2Nlc3MuCiAqIEBwYXJhbSB7c3RyaW5nfSBpbnB1dElkIEVsZW1lbnQgSUQgb2YgdGhlIGlucHV0IGZpbGUgcGlja2VyIGVsZW1lbnQuCiAqIEBwYXJhbSB7c3RyaW5nfSBvdXRwdXRJZCBFbGVtZW50IElEIG9mIHRoZSBvdXRwdXQgZGlzcGxheS4KICogQHJldHVybiB7IUl0ZXJhYmxlPCFPYmplY3Q+fSBJdGVyYWJsZSBvZiBuZXh0IHN0ZXBzLgogKi8KZnVuY3Rpb24qIHVwbG9hZEZpbGVzU3RlcChpbnB1dElkLCBvdXRwdXRJZCkgewogIGNvbnN0IGlucHV0RWxlbWVudCA9IGRvY3VtZW50LmdldEVsZW1lbnRCeUlkKGlucHV0SWQpOwogIGlucHV0RWxlbWVudC5kaXNhYmxlZCA9IGZhbHNlOwoKICBjb25zdCBvdXRwdXRFbGVtZW50ID0gZG9jdW1lbnQuZ2V0RWxlbWVudEJ5SWQob3V0cHV0SWQpOwogIG91dHB1dEVsZW1lbnQuaW5uZXJIVE1MID0gJyc7CgogIGNvbnN0IHBpY2tlZFByb21pc2UgPSBuZXcgUHJvbWlzZSgocmVzb2x2ZSkgPT4gewogICAgaW5wdXRFbGVtZW50LmFkZEV2ZW50TGlzdGVuZXIoJ2NoYW5nZScsIChlKSA9PiB7CiAgICAgIHJlc29sdmUoZS50YXJnZXQuZmlsZXMpOwogICAgfSk7CiAgfSk7CgogIGNvbnN0IGNhbmNlbCA9IGRvY3VtZW50LmNyZWF0ZUVsZW1lbnQoJ2J1dHRvbicpOwogIGlucHV0RWxlbWVudC5wYXJlbnRFbGVtZW50LmFwcGVuZENoaWxkKGNhbmNlbCk7CiAgY2FuY2VsLnRleHRDb250ZW50ID0gJ0NhbmNlbCB1cGxvYWQnOwogIGNvbnN0IGNhbmNlbFByb21pc2UgPSBuZXcgUHJvbWlzZSgocmVzb2x2ZSkgPT4gewogICAgY2FuY2VsLm9uY2xpY2sgPSAoKSA9PiB7CiAgICAgIHJlc29sdmUobnVsbCk7CiAgICB9OwogIH0pOwoKICAvLyBXYWl0IGZvciB0aGUgdXNlciB0byBwaWNrIHRoZSBmaWxlcy4KICBjb25zdCBmaWxlcyA9IHlpZWxkIHsKICAgIHByb21pc2U6IFByb21pc2UucmFjZShbcGlja2VkUHJvbWlzZSwgY2FuY2VsUHJvbWlzZV0pLAogICAgcmVzcG9uc2U6IHsKICAgICAgYWN0aW9uOiAnc3RhcnRpbmcnLAogICAgfQogIH07CgogIGNhbmNlbC5yZW1vdmUoKTsKCiAgLy8gRGlzYWJsZSB0aGUgaW5wdXQgZWxlbWVudCBzaW5jZSBmdXJ0aGVyIHBpY2tzIGFyZSBub3QgYWxsb3dlZC4KICBpbnB1dEVsZW1lbnQuZGlzYWJsZWQgPSB0cnVlOwoKICBpZiAoIWZpbGVzKSB7CiAgICByZXR1cm4gewogICAgICByZXNwb25zZTogewogICAgICAgIGFjdGlvbjogJ2NvbXBsZXRlJywKICAgICAgfQogICAgfTsKICB9CgogIGZvciAoY29uc3QgZmlsZSBvZiBmaWxlcykgewogICAgY29uc3QgbGkgPSBkb2N1bWVudC5jcmVhdGVFbGVtZW50KCdsaScpOwogICAgbGkuYXBwZW5kKHNwYW4oZmlsZS5uYW1lLCB7Zm9udFdlaWdodDogJ2JvbGQnfSkpOwogICAgbGkuYXBwZW5kKHNwYW4oCiAgICAgICAgYCgke2ZpbGUudHlwZSB8fCAnbi9hJ30pIC0gJHtmaWxlLnNpemV9IGJ5dGVzLCBgICsKICAgICAgICBgbGFzdCBtb2RpZmllZDogJHsKICAgICAgICAgICAgZmlsZS5sYXN0TW9kaWZpZWREYXRlID8gZmlsZS5sYXN0TW9kaWZpZWREYXRlLnRvTG9jYWxlRGF0ZVN0cmluZygpIDoKICAgICAgICAgICAgICAgICAgICAgICAgICAgICAgICAgICAgJ24vYSd9IC0gYCkpOwogICAgY29uc3QgcGVyY2VudCA9IHNwYW4oJzAlIGRvbmUnKTsKICAgIGxpLmFwcGVuZENoaWxkKHBlcmNlbnQpOwoKICAgIG91dHB1dEVsZW1lbnQuYXBwZW5kQ2hpbGQobGkpOwoKICAgIGNvbnN0IGZpbGVEYXRhUHJvbWlzZSA9IG5ldyBQcm9taXNlKChyZXNvbHZlKSA9PiB7CiAgICAgIGNvbnN0IHJlYWRlciA9IG5ldyBGaWxlUmVhZGVyKCk7CiAgICAgIHJlYWRlci5vbmxvYWQgPSAoZSkgPT4gewogICAgICAgIHJlc29sdmUoZS50YXJnZXQucmVzdWx0KTsKICAgICAgfTsKICAgICAgcmVhZGVyLnJlYWRBc0FycmF5QnVmZmVyKGZpbGUpOwogICAgfSk7CiAgICAvLyBXYWl0IGZvciB0aGUgZGF0YSB0byBiZSByZWFkeS4KICAgIGxldCBmaWxlRGF0YSA9IHlpZWxkIHsKICAgICAgcHJvbWlzZTogZmlsZURhdGFQcm9taXNlLAogICAgICByZXNwb25zZTogewogICAgICAgIGFjdGlvbjogJ2NvbnRpbnVlJywKICAgICAgfQogICAgfTsKCiAgICAvLyBVc2UgYSBjaHVua2VkIHNlbmRpbmcgdG8gYXZvaWQgbWVzc2FnZSBzaXplIGxpbWl0cy4gU2VlIGIvNjIxMTU2NjAuCiAgICBsZXQgcG9zaXRpb24gPSAwOwogICAgZG8gewogICAgICBjb25zdCBsZW5ndGggPSBNYXRoLm1pbihmaWxlRGF0YS5ieXRlTGVuZ3RoIC0gcG9zaXRpb24sIE1BWF9QQVlMT0FEX1NJWkUpOwogICAgICBjb25zdCBjaHVuayA9IG5ldyBVaW50OEFycmF5KGZpbGVEYXRhLCBwb3NpdGlvbiwgbGVuZ3RoKTsKICAgICAgcG9zaXRpb24gKz0gbGVuZ3RoOwoKICAgICAgY29uc3QgYmFzZTY0ID0gYnRvYShTdHJpbmcuZnJvbUNoYXJDb2RlLmFwcGx5KG51bGwsIGNodW5rKSk7CiAgICAgIHlpZWxkIHsKICAgICAgICByZXNwb25zZTogewogICAgICAgICAgYWN0aW9uOiAnYXBwZW5kJywKICAgICAgICAgIGZpbGU6IGZpbGUubmFtZSwKICAgICAgICAgIGRhdGE6IGJhc2U2NCwKICAgICAgICB9LAogICAgICB9OwoKICAgICAgbGV0IHBlcmNlbnREb25lID0gZmlsZURhdGEuYnl0ZUxlbmd0aCA9PT0gMCA/CiAgICAgICAgICAxMDAgOgogICAgICAgICAgTWF0aC5yb3VuZCgocG9zaXRpb24gLyBmaWxlRGF0YS5ieXRlTGVuZ3RoKSAqIDEwMCk7CiAgICAgIHBlcmNlbnQudGV4dENvbnRlbnQgPSBgJHtwZXJjZW50RG9uZX0lIGRvbmVgOwoKICAgIH0gd2hpbGUgKHBvc2l0aW9uIDwgZmlsZURhdGEuYnl0ZUxlbmd0aCk7CiAgfQoKICAvLyBBbGwgZG9uZS4KICB5aWVsZCB7CiAgICByZXNwb25zZTogewogICAgICBhY3Rpb246ICdjb21wbGV0ZScsCiAgICB9CiAgfTsKfQoKc2NvcGUuZ29vZ2xlID0gc2NvcGUuZ29vZ2xlIHx8IHt9OwpzY29wZS5nb29nbGUuY29sYWIgPSBzY29wZS5nb29nbGUuY29sYWIgfHwge307CnNjb3BlLmdvb2dsZS5jb2xhYi5fZmlsZXMgPSB7CiAgX3VwbG9hZEZpbGVzLAogIF91cGxvYWRGaWxlc0NvbnRpbnVlLAp9Owp9KShzZWxmKTsK",
              "ok": true,
              "headers": [
                [
                  "content-type",
                  "application/javascript"
                ]
              ],
              "status": 200,
              "status_text": ""
            }
          },
          "base_uri": "https://localhost:8080/",
          "height": 72
        },
        "outputId": "8d10790c-797a-4aee-81d8-3514b4a4e84c"
      },
      "source": [
        "from google.colab import files\n",
        "uploaded = files.upload()"
      ],
      "execution_count": null,
      "outputs": [
        {
          "output_type": "display_data",
          "data": {
            "text/html": [
              "\n",
              "     <input type=\"file\" id=\"files-c4150e19-86f6-4fd9-a447-8d613176f106\" name=\"files[]\" multiple disabled\n",
              "        style=\"border:none\" />\n",
              "     <output id=\"result-c4150e19-86f6-4fd9-a447-8d613176f106\">\n",
              "      Upload widget is only available when the cell has been executed in the\n",
              "      current browser session. Please rerun this cell to enable.\n",
              "      </output>\n",
              "      <script src=\"/nbextensions/google.colab/files.js\"></script> "
            ],
            "text/plain": [
              "<IPython.core.display.HTML object>"
            ]
          },
          "metadata": {}
        },
        {
          "output_type": "stream",
          "name": "stdout",
          "text": [
            "Saving bbc-fulltext.zip to bbc-fulltext.zip\n"
          ]
        }
      ]
    },
    {
      "cell_type": "code",
      "metadata": {
        "id": "VEK246vn6v1L"
      },
      "source": [
        "!unzip /content/bbc-fulltext.zip -d /content/BBC"
      ],
      "execution_count": null,
      "outputs": []
    },
    {
      "cell_type": "code",
      "metadata": {
        "id": "CUMm0no-zNGT"
      },
      "source": [
        "iterator= glob.iglob('/content/BBC/bbc/**/*.txt', recursive= True)"
      ],
      "execution_count": null,
      "outputs": []
    },
    {
      "cell_type": "code",
      "metadata": {
        "id": "p6UKnR7fsLY-"
      },
      "source": [
        "def topic (file_path):\n",
        "  path_list = file_path.split('/')\n",
        "  return path_list[-2]"
      ],
      "execution_count": null,
      "outputs": []
    },
    {
      "cell_type": "code",
      "metadata": {
        "id": "63f0vQGa6B53"
      },
      "source": [
        "def text (file_path):\n",
        "  with open (file_path, 'rb') as file:\n",
        "    var = file.read()\n",
        "    file.close()\n",
        "    pass\n",
        "    return var"
      ],
      "execution_count": null,
      "outputs": []
    },
    {
      "cell_type": "code",
      "metadata": {
        "id": "KvrkBbHI6Bzq"
      },
      "source": [
        "dataset= pd.DataFrame (columns= ['category', 'text'])\n",
        "\n",
        "for item in iterator:\n",
        "  a= topic(item)\n",
        "  b= text (item)\n",
        "  dataset= dataset.append(pd.DataFrame ([[a, b]], columns= ['category', 'text']))"
      ],
      "execution_count": null,
      "outputs": []
    },
    {
      "cell_type": "code",
      "metadata": {
        "colab": {
          "base_uri": "https://localhost:8080/",
          "height": 206
        },
        "id": "S7ZcnUk86BuQ",
        "outputId": "53a7af6c-41b2-412d-a01b-3967ea0dc757"
      },
      "source": [
        "dataset.head()"
      ],
      "execution_count": null,
      "outputs": [
        {
          "output_type": "execute_result",
          "data": {
            "text/html": [
              "<div>\n",
              "<style scoped>\n",
              "    .dataframe tbody tr th:only-of-type {\n",
              "        vertical-align: middle;\n",
              "    }\n",
              "\n",
              "    .dataframe tbody tr th {\n",
              "        vertical-align: top;\n",
              "    }\n",
              "\n",
              "    .dataframe thead th {\n",
              "        text-align: right;\n",
              "    }\n",
              "</style>\n",
              "<table border=\"1\" class=\"dataframe\">\n",
              "  <thead>\n",
              "    <tr style=\"text-align: right;\">\n",
              "      <th></th>\n",
              "      <th>category</th>\n",
              "      <th>text</th>\n",
              "    </tr>\n",
              "  </thead>\n",
              "  <tbody>\n",
              "    <tr>\n",
              "      <th>0</th>\n",
              "      <td>business</td>\n",
              "      <td>b'BMW drives record sales in Asia\\n\\nBMW has f...</td>\n",
              "    </tr>\n",
              "    <tr>\n",
              "      <th>0</th>\n",
              "      <td>business</td>\n",
              "      <td>b'Ethiopia\\'s crop production up 24%\\n\\nEthiop...</td>\n",
              "    </tr>\n",
              "    <tr>\n",
              "      <th>0</th>\n",
              "      <td>business</td>\n",
              "      <td>b'$1m payoff for former Shell boss\\n\\nShell is...</td>\n",
              "    </tr>\n",
              "    <tr>\n",
              "      <th>0</th>\n",
              "      <td>business</td>\n",
              "      <td>b'Worldcom director ends evidence\\n\\nThe forme...</td>\n",
              "    </tr>\n",
              "    <tr>\n",
              "      <th>0</th>\n",
              "      <td>business</td>\n",
              "      <td>b'Yukos accused of lying to court\\n\\nRussian o...</td>\n",
              "    </tr>\n",
              "  </tbody>\n",
              "</table>\n",
              "</div>"
            ],
            "text/plain": [
              "   category                                               text\n",
              "0  business  b'BMW drives record sales in Asia\\n\\nBMW has f...\n",
              "0  business  b'Ethiopia\\'s crop production up 24%\\n\\nEthiop...\n",
              "0  business  b'$1m payoff for former Shell boss\\n\\nShell is...\n",
              "0  business  b'Worldcom director ends evidence\\n\\nThe forme...\n",
              "0  business  b'Yukos accused of lying to court\\n\\nRussian o..."
            ]
          },
          "metadata": {},
          "execution_count": 8
        }
      ]
    },
    {
      "cell_type": "code",
      "metadata": {
        "id": "45vv7UAMKMlx"
      },
      "source": [
        "#from io import StringIO \n",
        "#df = pd.read_csv(StringIO(uploaded['data.csv']))\n",
        "#df['category_id'] = df['category'].factorize()[0]"
      ],
      "execution_count": null,
      "outputs": []
    },
    {
      "cell_type": "code",
      "metadata": {
        "id": "2wDV-e9TdRoU"
      },
      "source": [
        "#category_id_df = df[['category', 'category_id']].drop_duplicates().sort_values('category_id')\n",
        "#category_to_id = dict(category_id_df.values)\n",
        "#id_to_category = dict(category_id_df[['category_id', 'category']].values)"
      ],
      "execution_count": null,
      "outputs": []
    },
    {
      "cell_type": "markdown",
      "metadata": {
        "id": "kRviyvPXec-K"
      },
      "source": [
        "## 2. Data exploration\n",
        "\n",
        "Before diving head-first into training machine learning models, we should become familiar with the structure and characteristics of our dataset: these properties might inform our problem-solving approach.\n",
        "\n",
        "A first step would be to look at some random examples, and the number of examples in each class:"
      ]
    },
    {
      "cell_type": "code",
      "metadata": {
        "id": "CM-x-fpjKMl0",
        "colab": {
          "base_uri": "https://localhost:8080/",
          "height": 206
        },
        "outputId": "0d9f134f-e824-49c7-eb4e-4addbd87493c"
      },
      "source": [
        "dataset.sample(5, random_state=0)"
      ],
      "execution_count": null,
      "outputs": [
        {
          "output_type": "execute_result",
          "data": {
            "text/html": [
              "<div>\n",
              "<style scoped>\n",
              "    .dataframe tbody tr th:only-of-type {\n",
              "        vertical-align: middle;\n",
              "    }\n",
              "\n",
              "    .dataframe tbody tr th {\n",
              "        vertical-align: top;\n",
              "    }\n",
              "\n",
              "    .dataframe thead th {\n",
              "        text-align: right;\n",
              "    }\n",
              "</style>\n",
              "<table border=\"1\" class=\"dataframe\">\n",
              "  <thead>\n",
              "    <tr style=\"text-align: right;\">\n",
              "      <th></th>\n",
              "      <th>category</th>\n",
              "      <th>text</th>\n",
              "    </tr>\n",
              "  </thead>\n",
              "  <tbody>\n",
              "    <tr>\n",
              "      <th>0</th>\n",
              "      <td>business</td>\n",
              "      <td>b'US firm pulls out of Iraq\\n\\nA US company ha...</td>\n",
              "    </tr>\n",
              "    <tr>\n",
              "      <th>0</th>\n",
              "      <td>politics</td>\n",
              "      <td>b'Tories attack EU asylum moves\\n\\nDavid Blunk...</td>\n",
              "    </tr>\n",
              "    <tr>\n",
              "      <th>0</th>\n",
              "      <td>sport</td>\n",
              "      <td>b'Chelsea ridiculed over complaint\\n\\nBarcelon...</td>\n",
              "    </tr>\n",
              "    <tr>\n",
              "      <th>0</th>\n",
              "      <td>sport</td>\n",
              "      <td>b'Pountney handed ban and fine\\n\\nNorthampton ...</td>\n",
              "    </tr>\n",
              "    <tr>\n",
              "      <th>0</th>\n",
              "      <td>sport</td>\n",
              "      <td>b'Newcastle to join Morientes race\\n\\nNewcastl...</td>\n",
              "    </tr>\n",
              "  </tbody>\n",
              "</table>\n",
              "</div>"
            ],
            "text/plain": [
              "   category                                               text\n",
              "0  business  b'US firm pulls out of Iraq\\n\\nA US company ha...\n",
              "0  politics  b'Tories attack EU asylum moves\\n\\nDavid Blunk...\n",
              "0     sport  b'Chelsea ridiculed over complaint\\n\\nBarcelon...\n",
              "0     sport  b'Pountney handed ban and fine\\n\\nNorthampton ...\n",
              "0     sport  b'Newcastle to join Morientes race\\n\\nNewcastl..."
            ]
          },
          "metadata": {},
          "execution_count": 9
        }
      ]
    },
    {
      "cell_type": "code",
      "metadata": {
        "id": "8GU61mTp5kpC"
      },
      "source": [
        "group = dataset.groupby('category')"
      ],
      "execution_count": null,
      "outputs": []
    },
    {
      "cell_type": "code",
      "metadata": {
        "colab": {
          "base_uri": "https://localhost:8080/",
          "height": 268
        },
        "id": "ZU2wna4pq5-L",
        "outputId": "6ae246ea-4190-4cb0-b1da-df207914a0de"
      },
      "source": [
        "group.describe()"
      ],
      "execution_count": null,
      "outputs": [
        {
          "output_type": "execute_result",
          "data": {
            "text/html": [
              "<div>\n",
              "<style scoped>\n",
              "    .dataframe tbody tr th:only-of-type {\n",
              "        vertical-align: middle;\n",
              "    }\n",
              "\n",
              "    .dataframe tbody tr th {\n",
              "        vertical-align: top;\n",
              "    }\n",
              "\n",
              "    .dataframe thead tr th {\n",
              "        text-align: left;\n",
              "    }\n",
              "\n",
              "    .dataframe thead tr:last-of-type th {\n",
              "        text-align: right;\n",
              "    }\n",
              "</style>\n",
              "<table border=\"1\" class=\"dataframe\">\n",
              "  <thead>\n",
              "    <tr>\n",
              "      <th></th>\n",
              "      <th colspan=\"4\" halign=\"left\">text</th>\n",
              "    </tr>\n",
              "    <tr>\n",
              "      <th></th>\n",
              "      <th>count</th>\n",
              "      <th>unique</th>\n",
              "      <th>top</th>\n",
              "      <th>freq</th>\n",
              "    </tr>\n",
              "    <tr>\n",
              "      <th>category</th>\n",
              "      <th></th>\n",
              "      <th></th>\n",
              "      <th></th>\n",
              "      <th></th>\n",
              "    </tr>\n",
              "  </thead>\n",
              "  <tbody>\n",
              "    <tr>\n",
              "      <th>business</th>\n",
              "      <td>510</td>\n",
              "      <td>503</td>\n",
              "      <td>b'Steady job growth continues in US\\n\\nThe US ...</td>\n",
              "      <td>2</td>\n",
              "    </tr>\n",
              "    <tr>\n",
              "      <th>entertainment</th>\n",
              "      <td>386</td>\n",
              "      <td>369</td>\n",
              "      <td>b'Sir Paul rocks Super Bowl crowds\\n\\nSir Paul...</td>\n",
              "      <td>2</td>\n",
              "    </tr>\n",
              "    <tr>\n",
              "      <th>politics</th>\n",
              "      <td>417</td>\n",
              "      <td>403</td>\n",
              "      <td>b'Kennedy questions trust of Blair\\n\\nLib Dem ...</td>\n",
              "      <td>2</td>\n",
              "    </tr>\n",
              "    <tr>\n",
              "      <th>sport</th>\n",
              "      <td>511</td>\n",
              "      <td>505</td>\n",
              "      <td>b'Spain coach faces racism inquiry\\n\\nSpain\\'s...</td>\n",
              "      <td>2</td>\n",
              "    </tr>\n",
              "    <tr>\n",
              "      <th>tech</th>\n",
              "      <td>401</td>\n",
              "      <td>347</td>\n",
              "      <td>b'Warning over tsunami aid website\\n\\nNet user...</td>\n",
              "      <td>2</td>\n",
              "    </tr>\n",
              "  </tbody>\n",
              "</table>\n",
              "</div>"
            ],
            "text/plain": [
              "               text  ...     \n",
              "              count  ... freq\n",
              "category             ...     \n",
              "business        510  ...    2\n",
              "entertainment   386  ...    2\n",
              "politics        417  ...    2\n",
              "sport           511  ...    2\n",
              "tech            401  ...    2\n",
              "\n",
              "[5 rows x 4 columns]"
            ]
          },
          "metadata": {},
          "execution_count": 11
        }
      ]
    },
    {
      "cell_type": "code",
      "metadata": {
        "colab": {
          "base_uri": "https://localhost:8080/",
          "height": 358
        },
        "id": "jmS1ZcJhpnrF",
        "outputId": "dabf8be8-b869-49c2-ad9c-9457cc2a3382"
      },
      "source": [
        "group.count().plot.bar()"
      ],
      "execution_count": null,
      "outputs": [
        {
          "output_type": "execute_result",
          "data": {
            "text/plain": [
              "<matplotlib.axes._subplots.AxesSubplot at 0x7f064e19c510>"
            ]
          },
          "metadata": {},
          "execution_count": 12
        },
        {
          "output_type": "display_data",
          "data": {
            "image/png": "[encoded data removed]",
            "text/plain": [
              "<Figure size 432x288 with 1 Axes>"
            ]
          },
          "metadata": {
            "needs_background": "light"
          }
        }
      ]
    },
    {
      "cell_type": "markdown",
      "metadata": {
        "id": "Imf7a7091OSB"
      },
      "source": [
        "Here, we see that the number of articles per class is roughly balanced, which is helpful! If our dataset were imbalanced, we would need to carefully configure our model or artificially balance the dataset, for example by [undersampling or oversampling](https://en.wikipedia.org/wiki/Oversampling_and_undersampling_in_data_analysis) each class.\n",
        "\n",
        "To further analyze our dataset, we need to transform each article's text to a feature vector, a list of numerical values representing some of the text’s characteristics. This is because most ML models cannot process raw text, instead only dealing with numerical values.\n",
        "\n",
        "One common approach for extracting features from text is to use the bag of words model: a model where for each document, an article in our case, the presence (and often the frequency) of words is taken into consideration, but the order in which they occur is ignored.\n",
        "\n",
        "Specifically, for each term in our dataset, we will calculate a measure called Term Frequency, Inverse Document Frequency, abbreviated to tf-idf. This statistic represents words’ importance in each document. We use a word's frequency as a proxy for its importance: if \"football\" is mentioned 25 times in a document, it might be more important than if it was only mentioned once. We also use the document frequency (the number of documents containing a given word) as a measure of how common the word is. This minimizes the effect of stop-words such as pronouns, or domain-specific language that does not add much information (for example, a word such as \"news\" that might be present in most documents).\n",
        "We will use sklearn (also known as scikit-learn), a machine learning library that is particularly accessible to beginners.\n",
        "We use the `TfidfVectorizer` class to calculate a `tf-idf` vector for each of our documents:\n",
        "\n",
        "`sklearn.feature_extraction.text.TfidfVectorizer` will be used to calculate a `tf-idf` vector for each of our documents. Note that we are passing a number of parameters to this class:\n",
        "\n",
        "- `sublinear_df` is set to `True` to use a logarithmic form for frequency, to give diminishing returns as the frequency of a word increases. This is usually preferable for a number of reasons, one of which being [Zipf's Law](https://en.wikipedia.org/wiki/Zipf%27s_law).\n",
        "- `min_df` is the minimum numbers of documents a word must be present in to be kept, and we are setting it to `5`. This is to avoid rare words, which drastically increase the size of our features and might cause [overfitting](https://en.wikipedia.org/wiki/Overfitting).\n",
        "- `norm` is set to `l2`, to ensure all our feature vectors have a euclidian norm of 1. This is helpful for visualizing these vectors, and can also improve (or deteriorate) the performance of some models.\n",
        "- `encoding` is set to `latin-1` which is used by our input text.\n",
        "- `ngram_range` is set to `(1, 2)` to indicate that we want to consider both unigrams and bigrams, or in other terms: we want to consider single words (\"prices\", \"player\") and pairs of words (\"stock prices\", \"football player\").\n",
        "- Finally, `stop_words` is set to `\"english\"` to remove all common pronouns (`\"a\"`, `\"the\"`, ...) and further reduce the number of noisy features."
      ]
    },
    {
      "cell_type": "code",
      "metadata": {
        "colab": {
          "base_uri": "https://localhost:8080/",
          "height": 423
        },
        "id": "zUqN3QZorFsa",
        "outputId": "4564ec43-8c6f-45a7-c857-d254ba958e3e"
      },
      "source": [
        "dataset['category_id']= dataset['category'].factorize()[0]\n",
        "\n",
        "dataset"
      ],
      "execution_count": null,
      "outputs": [
        {
          "output_type": "execute_result",
          "data": {
            "text/html": [
              "<div>\n",
              "<style scoped>\n",
              "    .dataframe tbody tr th:only-of-type {\n",
              "        vertical-align: middle;\n",
              "    }\n",
              "\n",
              "    .dataframe tbody tr th {\n",
              "        vertical-align: top;\n",
              "    }\n",
              "\n",
              "    .dataframe thead th {\n",
              "        text-align: right;\n",
              "    }\n",
              "</style>\n",
              "<table border=\"1\" class=\"dataframe\">\n",
              "  <thead>\n",
              "    <tr style=\"text-align: right;\">\n",
              "      <th></th>\n",
              "      <th>category</th>\n",
              "      <th>text</th>\n",
              "      <th>category_id</th>\n",
              "    </tr>\n",
              "  </thead>\n",
              "  <tbody>\n",
              "    <tr>\n",
              "      <th>0</th>\n",
              "      <td>business</td>\n",
              "      <td>b'BMW drives record sales in Asia\\n\\nBMW has f...</td>\n",
              "      <td>0</td>\n",
              "    </tr>\n",
              "    <tr>\n",
              "      <th>0</th>\n",
              "      <td>business</td>\n",
              "      <td>b'Ethiopia\\'s crop production up 24%\\n\\nEthiop...</td>\n",
              "      <td>0</td>\n",
              "    </tr>\n",
              "    <tr>\n",
              "      <th>0</th>\n",
              "      <td>business</td>\n",
              "      <td>b'$1m payoff for former Shell boss\\n\\nShell is...</td>\n",
              "      <td>0</td>\n",
              "    </tr>\n",
              "    <tr>\n",
              "      <th>0</th>\n",
              "      <td>business</td>\n",
              "      <td>b'Worldcom director ends evidence\\n\\nThe forme...</td>\n",
              "      <td>0</td>\n",
              "    </tr>\n",
              "    <tr>\n",
              "      <th>0</th>\n",
              "      <td>business</td>\n",
              "      <td>b'Yukos accused of lying to court\\n\\nRussian o...</td>\n",
              "      <td>0</td>\n",
              "    </tr>\n",
              "    <tr>\n",
              "      <th>...</th>\n",
              "      <td>...</td>\n",
              "      <td>...</td>\n",
              "      <td>...</td>\n",
              "    </tr>\n",
              "    <tr>\n",
              "      <th>0</th>\n",
              "      <td>politics</td>\n",
              "      <td>b'Tories pledge free sports lessons\\n\\nChildre...</td>\n",
              "      <td>4</td>\n",
              "    </tr>\n",
              "    <tr>\n",
              "      <th>0</th>\n",
              "      <td>politics</td>\n",
              "      <td>b'Royal couple watch nation\\'s mood\\n\\nPrince ...</td>\n",
              "      <td>4</td>\n",
              "    </tr>\n",
              "    <tr>\n",
              "      <th>0</th>\n",
              "      <td>politics</td>\n",
              "      <td>b'Lib Dems stress Budget trust gap\\n\\nPublic t...</td>\n",
              "      <td>4</td>\n",
              "    </tr>\n",
              "    <tr>\n",
              "      <th>0</th>\n",
              "      <td>politics</td>\n",
              "      <td>b'Fox attacks Blair\\'s Tory \\'lies\\'\\n\\nTony B...</td>\n",
              "      <td>4</td>\n",
              "    </tr>\n",
              "    <tr>\n",
              "      <th>0</th>\n",
              "      <td>politics</td>\n",
              "      <td>b'Watchdog probes e-mail deletions\\n\\nThe info...</td>\n",
              "      <td>4</td>\n",
              "    </tr>\n",
              "  </tbody>\n",
              "</table>\n",
              "<p>2225 rows × 3 columns</p>\n",
              "</div>"
            ],
            "text/plain": [
              "    category                                               text  category_id\n",
              "0   business  b'BMW drives record sales in Asia\\n\\nBMW has f...            0\n",
              "0   business  b'Ethiopia\\'s crop production up 24%\\n\\nEthiop...            0\n",
              "0   business  b'$1m payoff for former Shell boss\\n\\nShell is...            0\n",
              "0   business  b'Worldcom director ends evidence\\n\\nThe forme...            0\n",
              "0   business  b'Yukos accused of lying to court\\n\\nRussian o...            0\n",
              "..       ...                                                ...          ...\n",
              "0   politics  b'Tories pledge free sports lessons\\n\\nChildre...            4\n",
              "0   politics  b'Royal couple watch nation\\'s mood\\n\\nPrince ...            4\n",
              "0   politics  b'Lib Dems stress Budget trust gap\\n\\nPublic t...            4\n",
              "0   politics  b'Fox attacks Blair\\'s Tory \\'lies\\'\\n\\nTony B...            4\n",
              "0   politics  b'Watchdog probes e-mail deletions\\n\\nThe info...            4\n",
              "\n",
              "[2225 rows x 3 columns]"
            ]
          },
          "metadata": {},
          "execution_count": 13
        }
      ]
    },
    {
      "cell_type": "code",
      "metadata": {
        "id": "mtmh4uCMKMl5"
      },
      "source": [
        "from sklearn.feature_extraction.text import TfidfVectorizer\n",
        "\n",
        "tfidf = TfidfVectorizer(sublinear_tf=True, min_df=5, norm='l2', encoding='latin-1', ngram_range=(1, 2), stop_words='english')\n",
        "\n",
        "features = tfidf.fit_transform(dataset['text']).toarray()\n",
        "labels = dataset.category_id\n"
      ],
      "execution_count": null,
      "outputs": []
    },
    {
      "cell_type": "code",
      "metadata": {
        "colab": {
          "base_uri": "https://localhost:8080/"
        },
        "id": "c0-7vWVPlBEr",
        "outputId": "f4d126e4-2cc7-44e8-f4c8-d3c7918f2df8"
      },
      "source": [
        "len (tfidf.vocabulary_)"
      ],
      "execution_count": null,
      "outputs": [
        {
          "output_type": "execute_result",
          "data": {
            "text/plain": [
              "14415"
            ]
          },
          "metadata": {},
          "execution_count": 15
        }
      ]
    },
    {
      "cell_type": "code",
      "metadata": {
        "colab": {
          "base_uri": "https://localhost:8080/"
        },
        "id": "xo-VMhvVjAkn",
        "outputId": "579fe0cc-bb42-4c95-cdd0-793d10fe84d8"
      },
      "source": [
        "print (type(features), features.shape)"
      ],
      "execution_count": null,
      "outputs": [
        {
          "output_type": "stream",
          "name": "stdout",
          "text": [
            "<class 'numpy.ndarray'> (2225, 14415)\n"
          ]
        }
      ]
    },
    {
      "cell_type": "code",
      "metadata": {
        "id": "VYqhS5G7ZBQn"
      },
      "source": [
        "category_id_df= dataset[['category', 'category_id']]"
      ],
      "execution_count": null,
      "outputs": []
    },
    {
      "cell_type": "code",
      "metadata": {
        "colab": {
          "base_uri": "https://localhost:8080/",
          "height": 206
        },
        "id": "abTN8wiUb31h",
        "outputId": "ef5e93c3-34f0-4458-950b-964819da3cf2"
      },
      "source": [
        "category_id_df.drop_duplicates()"
      ],
      "execution_count": null,
      "outputs": [
        {
          "output_type": "execute_result",
          "data": {
            "text/html": [
              "<div>\n",
              "<style scoped>\n",
              "    .dataframe tbody tr th:only-of-type {\n",
              "        vertical-align: middle;\n",
              "    }\n",
              "\n",
              "    .dataframe tbody tr th {\n",
              "        vertical-align: top;\n",
              "    }\n",
              "\n",
              "    .dataframe thead th {\n",
              "        text-align: right;\n",
              "    }\n",
              "</style>\n",
              "<table border=\"1\" class=\"dataframe\">\n",
              "  <thead>\n",
              "    <tr style=\"text-align: right;\">\n",
              "      <th></th>\n",
              "      <th>category</th>\n",
              "      <th>category_id</th>\n",
              "    </tr>\n",
              "  </thead>\n",
              "  <tbody>\n",
              "    <tr>\n",
              "      <th>0</th>\n",
              "      <td>business</td>\n",
              "      <td>0</td>\n",
              "    </tr>\n",
              "    <tr>\n",
              "      <th>0</th>\n",
              "      <td>tech</td>\n",
              "      <td>1</td>\n",
              "    </tr>\n",
              "    <tr>\n",
              "      <th>0</th>\n",
              "      <td>sport</td>\n",
              "      <td>2</td>\n",
              "    </tr>\n",
              "    <tr>\n",
              "      <th>0</th>\n",
              "      <td>entertainment</td>\n",
              "      <td>3</td>\n",
              "    </tr>\n",
              "    <tr>\n",
              "      <th>0</th>\n",
              "      <td>politics</td>\n",
              "      <td>4</td>\n",
              "    </tr>\n",
              "  </tbody>\n",
              "</table>\n",
              "</div>"
            ],
            "text/plain": [
              "        category  category_id\n",
              "0       business            0\n",
              "0           tech            1\n",
              "0          sport            2\n",
              "0  entertainment            3\n",
              "0       politics            4"
            ]
          },
          "metadata": {},
          "execution_count": 18
        }
      ]
    },
    {
      "cell_type": "code",
      "metadata": {
        "id": "ogZhohTzcIdU"
      },
      "source": [
        "category_id_dict = dict(category_id_df[['category', 'category_id']].values)"
      ],
      "execution_count": null,
      "outputs": []
    },
    {
      "cell_type": "code",
      "metadata": {
        "colab": {
          "base_uri": "https://localhost:8080/"
        },
        "id": "uFiI07npccXY",
        "outputId": "18cb04c4-f9fb-4016-fd5a-49d4e4cbf34f"
      },
      "source": [
        "category_id_dict"
      ],
      "execution_count": null,
      "outputs": [
        {
          "output_type": "execute_result",
          "data": {
            "text/plain": [
              "{'business': 0, 'entertainment': 3, 'politics': 4, 'sport': 2, 'tech': 1}"
            ]
          },
          "metadata": {},
          "execution_count": 20
        }
      ]
    },
    {
      "cell_type": "code",
      "metadata": {
        "id": "v417qXFyci3U"
      },
      "source": [
        "id_category_dict = dict(category_id_df[['category_id', 'category']].values)"
      ],
      "execution_count": null,
      "outputs": []
    },
    {
      "cell_type": "code",
      "metadata": {
        "colab": {
          "base_uri": "https://localhost:8080/"
        },
        "id": "Aw66_5gSe0WN",
        "outputId": "0e290ac8-5327-45eb-a443-624bdfd68332"
      },
      "source": [
        "id_category_dict"
      ],
      "execution_count": null,
      "outputs": [
        {
          "output_type": "execute_result",
          "data": {
            "text/plain": [
              "{0: 'business', 1: 'tech', 2: 'sport', 3: 'entertainment', 4: 'politics'}"
            ]
          },
          "metadata": {},
          "execution_count": 22
        }
      ]
    },
    {
      "cell_type": "code",
      "metadata": {
        "colab": {
          "base_uri": "https://localhost:8080/"
        },
        "id": "vq_VFluogoPI",
        "outputId": "7c84fd5c-3dc2-4786-97b2-d86b42e50368"
      },
      "source": [
        "tfidf.get_feature_names_out()"
      ],
      "execution_count": null,
      "outputs": [
        {
          "output_type": "execute_result",
          "data": {
            "text/plain": [
              "array(['00', '000', '000 000', ..., 'zone', 'zurich',\n",
              "       'zurich premiership'], dtype=object)"
            ]
          },
          "metadata": {},
          "execution_count": 23
        }
      ]
    },
    {
      "cell_type": "code",
      "metadata": {
        "id": "373KOVE2k3MP"
      },
      "source": [
        "import warnings\n",
        "warnings.filterwarnings(\"ignore\")"
      ],
      "execution_count": null,
      "outputs": []
    },
    {
      "cell_type": "code",
      "metadata": {
        "colab": {
          "base_uri": "https://localhost:8080/"
        },
        "id": "PUtbj6N_hpxg",
        "outputId": "1c09c90a-5603-4da5-abd3-68d9096d81a7"
      },
      "source": [
        "from sklearn.feature_selection import chi2\n",
        "\n",
        "N = 3\n",
        "for category, category_id in sorted(category_id_dict.items()):\n",
        "  features_chi2 = chi2(features, labels==category_id)\n",
        "  indices = np.argsort(features_chi2[0])\n",
        "  feature_names = np.array(tfidf.get_feature_names())[indices]\n",
        "  unigrams = [v for v in feature_names if len(v.split(' ')) == 1]\n",
        "  bigrams = [v for v in feature_names if len(v.split(' ')) == 2]\n",
        "  print(\"# '{}':\".format(category))\n",
        "  print(\"  . Most correlated unigrams:\\n       . {}\".format('\\n       . '.join(unigrams[-N:])))\n",
        "  print(\"  . Most correlated bigrams:\\n       . {}\".format('\\n       . '.join(bigrams[-N:])))\n",
        "  print ('****')\n"
      ],
      "execution_count": null,
      "outputs": [
        {
          "output_type": "stream",
          "name": "stdout",
          "text": [
            "# 'business':\n",
            "  . Most correlated unigrams:\n",
            "       . oil\n",
            "       . growth\n",
            "       . shares\n",
            "  . Most correlated bigrams:\n",
            "       . analysts said\n",
            "       . economic growth\n",
            "       . stock market\n",
            "****\n",
            "# 'entertainment':\n",
            "  . Most correlated unigrams:\n",
            "       . singer\n",
            "       . actor\n",
            "       . film\n",
            "  . Most correlated bigrams:\n",
            "       . los angeles\n",
            "       . film festival\n",
            "       . box office\n",
            "****\n",
            "# 'politics':\n",
            "  . Most correlated unigrams:\n",
            "       . blair\n",
            "       . election\n",
            "       . labour\n",
            "  . Most correlated bigrams:\n",
            "       . prime minister\n",
            "       . tony blair\n",
            "       . mr blair\n",
            "****\n",
            "# 'sport':\n",
            "  . Most correlated unigrams:\n",
            "       . coach\n",
            "       . match\n",
            "       . cup\n",
            "  . Most correlated bigrams:\n",
            "       . grand slam\n",
            "       . australian open\n",
            "       . champions league\n",
            "****\n",
            "# 'tech':\n",
            "  . Most correlated unigrams:\n",
            "       . technology\n",
            "       . software\n",
            "       . users\n",
            "  . Most correlated bigrams:\n",
            "       . anti virus\n",
            "       . mobile phones\n",
            "       . mobile phone\n",
            "****\n"
          ]
        }
      ]
    },
    {
      "cell_type": "markdown",
      "metadata": {
        "id": "P-DT_-fH_AJ0"
      },
      "source": [
        "Each of our 2225 documents is now represented by 14415 features, representing the tf-idf score for different unigrams and bigrams.\n",
        "\n",
        "This representation is not only useful for solving our classification task, but also to familiarize ourselves with the dataset. For example, we can use the [chi-squared test](https://en.wikipedia.org/wiki/Pearson%27s_chi-squared_test) to find the terms are the most correlated with each of the categories:"
      ]
    },
    {
      "cell_type": "markdown",
      "metadata": {
        "id": "4I-TGszv_tKv"
      },
      "source": [
        "These result are consistent with what we would expect from a news outlet. We also notice that the addition of bigrams is welcome since it catches pairs of words that only make sense when put together (grand slam, box office, ...). Simply using this correlation factor to predict which class is the most likely might already get us quite far, but we will see that there are simpler and more efficient ways to do this.\n",
        "\n",
        "Although this first test proves the presence of terms specific to each category, there might still be too much noise in the data, making it impossible to clearly separate each category. One way to confirm that the feature space we are using is representative enough for our task (classifying articles into separate labels) to be solvable is to use dimensionality-reduction techniques: These methods project a high-dimensional vector into a lower number of dimensions, with different guarantees on this projection according to the method used:\n",
        "\n",
        "- Principal Component Analysis (PCA) and Truncated Singular Value Decomposition (Truncated SVD) are two popular method given their scalability to a large number of dimensions, but they perform poorly on some classes of problems (when the correlations between the data are non-linear).\n",
        "- Kernel PCA, self-organizing maps and auto-encoders are often used when the correlations between the features' dimensions are non-linear.\n",
        "\n",
        "Given our dataset contains natural language, we are most likely in the second case and will use [**t-SNE**](https://lvdmaaten.github.io/tsne/), a popular dimensionality reduction technique used in many fields, including NLP."
      ]
    },
    {
      "cell_type": "code",
      "metadata": {
        "id": "wZ1SjdRPnXYl"
      },
      "source": [
        "from sklearn.manifold import TSNE\n",
        "\n",
        "tsne = TSNE(n_components=2, random_state=0)\n",
        "features_new= tsne.fit_transform(features)"
      ],
      "execution_count": null,
      "outputs": []
    },
    {
      "cell_type": "code",
      "metadata": {
        "id": "y46HSWaMufzf"
      },
      "source": [
        "result= pd.DataFrame(features_new)"
      ],
      "execution_count": null,
      "outputs": []
    },
    {
      "cell_type": "code",
      "metadata": {
        "id": "dfS-E1yD0Ykr"
      },
      "source": [
        "result.columns =['A', 'B']\n",
        "result['C']= dataset['category_id'].values\n",
        "result['D']= dataset['category'].values\n"
      ],
      "execution_count": null,
      "outputs": []
    },
    {
      "cell_type": "code",
      "metadata": {
        "colab": {
          "base_uri": "https://localhost:8080/",
          "height": 423
        },
        "id": "hIMuDxfI1kKg",
        "outputId": "96bdaed4-37ca-4163-a886-0cef22e63970"
      },
      "source": [
        "result"
      ],
      "execution_count": null,
      "outputs": [
        {
          "output_type": "execute_result",
          "data": {
            "text/html": [
              "<div>\n",
              "<style scoped>\n",
              "    .dataframe tbody tr th:only-of-type {\n",
              "        vertical-align: middle;\n",
              "    }\n",
              "\n",
              "    .dataframe tbody tr th {\n",
              "        vertical-align: top;\n",
              "    }\n",
              "\n",
              "    .dataframe thead th {\n",
              "        text-align: right;\n",
              "    }\n",
              "</style>\n",
              "<table border=\"1\" class=\"dataframe\">\n",
              "  <thead>\n",
              "    <tr style=\"text-align: right;\">\n",
              "      <th></th>\n",
              "      <th>A</th>\n",
              "      <th>B</th>\n",
              "      <th>C</th>\n",
              "      <th>D</th>\n",
              "    </tr>\n",
              "  </thead>\n",
              "  <tbody>\n",
              "    <tr>\n",
              "      <th>0</th>\n",
              "      <td>-0.587157</td>\n",
              "      <td>-29.630581</td>\n",
              "      <td>0</td>\n",
              "      <td>business</td>\n",
              "    </tr>\n",
              "    <tr>\n",
              "      <th>1</th>\n",
              "      <td>25.621655</td>\n",
              "      <td>-17.497692</td>\n",
              "      <td>0</td>\n",
              "      <td>business</td>\n",
              "    </tr>\n",
              "    <tr>\n",
              "      <th>2</th>\n",
              "      <td>13.949023</td>\n",
              "      <td>-4.682540</td>\n",
              "      <td>0</td>\n",
              "      <td>business</td>\n",
              "    </tr>\n",
              "    <tr>\n",
              "      <th>3</th>\n",
              "      <td>1.809408</td>\n",
              "      <td>6.695816</td>\n",
              "      <td>0</td>\n",
              "      <td>business</td>\n",
              "    </tr>\n",
              "    <tr>\n",
              "      <th>4</th>\n",
              "      <td>14.322331</td>\n",
              "      <td>2.774111</td>\n",
              "      <td>0</td>\n",
              "      <td>business</td>\n",
              "    </tr>\n",
              "    <tr>\n",
              "      <th>...</th>\n",
              "      <td>...</td>\n",
              "      <td>...</td>\n",
              "      <td>...</td>\n",
              "      <td>...</td>\n",
              "    </tr>\n",
              "    <tr>\n",
              "      <th>2220</th>\n",
              "      <td>41.077503</td>\n",
              "      <td>-7.732425</td>\n",
              "      <td>4</td>\n",
              "      <td>politics</td>\n",
              "    </tr>\n",
              "    <tr>\n",
              "      <th>2221</th>\n",
              "      <td>28.926535</td>\n",
              "      <td>2.031101</td>\n",
              "      <td>4</td>\n",
              "      <td>politics</td>\n",
              "    </tr>\n",
              "    <tr>\n",
              "      <th>2222</th>\n",
              "      <td>52.457005</td>\n",
              "      <td>-23.467163</td>\n",
              "      <td>4</td>\n",
              "      <td>politics</td>\n",
              "    </tr>\n",
              "    <tr>\n",
              "      <th>2223</th>\n",
              "      <td>59.361801</td>\n",
              "      <td>-10.761758</td>\n",
              "      <td>4</td>\n",
              "      <td>politics</td>\n",
              "    </tr>\n",
              "    <tr>\n",
              "      <th>2224</th>\n",
              "      <td>31.922441</td>\n",
              "      <td>-6.414065</td>\n",
              "      <td>4</td>\n",
              "      <td>politics</td>\n",
              "    </tr>\n",
              "  </tbody>\n",
              "</table>\n",
              "<p>2225 rows × 4 columns</p>\n",
              "</div>"
            ],
            "text/plain": [
              "              A          B  C         D\n",
              "0     -0.587157 -29.630581  0  business\n",
              "1     25.621655 -17.497692  0  business\n",
              "2     13.949023  -4.682540  0  business\n",
              "3      1.809408   6.695816  0  business\n",
              "4     14.322331   2.774111  0  business\n",
              "...         ...        ... ..       ...\n",
              "2220  41.077503  -7.732425  4  politics\n",
              "2221  28.926535   2.031101  4  politics\n",
              "2222  52.457005 -23.467163  4  politics\n",
              "2223  59.361801 -10.761758  4  politics\n",
              "2224  31.922441  -6.414065  4  politics\n",
              "\n",
              "[2225 rows x 4 columns]"
            ]
          },
          "metadata": {},
          "execution_count": 29
        }
      ]
    },
    {
      "cell_type": "code",
      "metadata": {
        "id": "DXMQvF0QsLex"
      },
      "source": [
        "features_tsne = result[['A', 'B']]\n",
        "labels_tsne = result['C']"
      ],
      "execution_count": null,
      "outputs": []
    },
    {
      "cell_type": "code",
      "metadata": {
        "id": "qcrHHb-nr3mS"
      },
      "source": [
        "group = result.groupby ('D')"
      ],
      "execution_count": null,
      "outputs": []
    },
    {
      "cell_type": "code",
      "metadata": {
        "colab": {
          "base_uri": "https://localhost:8080/",
          "height": 537
        },
        "id": "_T43njnXr_6b",
        "outputId": "f2cccddd-8da4-4a2b-a08d-4280711da91f"
      },
      "source": [
        "import matplotlib.pyplot as plt\n",
        "\n",
        "fig = plt.figure(figsize = (12,9))\n",
        "\n",
        "for name, group in group:\n",
        "  plt.scatter(group.A, group.B, label= name)\n",
        "  plt.legend()"
      ],
      "execution_count": null,
      "outputs": [
        {
          "output_type": "display_data",
          "data": {
            "image/png": "[encoded data removed]",
            "text/plain": [
              "<Figure size 864x648 with 1 Axes>"
            ]
          },
          "metadata": {
            "needs_background": "light"
          }
        }
      ]
    },
    {
      "cell_type": "markdown",
      "metadata": {
        "id": "8XOO-Ws1ERGy"
      },
      "source": [
        "More good news! We can clearly see that different article categories fall in different areas, which means that we should expect this problem to be easily solvable, achieving good performance.\n",
        "\n",
        "One thing to note however is the presence of some *outliers*: points from a category falling in the middle of a different category. One of these outliers is a business article about the football club Arsenal, falling in the middle of a sport cluster:"
      ]
    },
    {
      "cell_type": "markdown",
      "metadata": {
        "id": "yPrfxDfoE6K8"
      },
      "source": [
        "These outliers are expected, and there's often little we can do as trying to correctly label **all** points in our dataset will only lead to **overfitting**: building an overly complex model that does not generalize well to unseen datapoints. "
      ]
    },
    {
      "cell_type": "markdown",
      "metadata": {
        "id": "1XwFNO4re_Fz"
      },
      "source": [
        "## 3. Model training and evaluation"
      ]
    },
    {
      "cell_type": "markdown",
      "metadata": {
        "id": "GqNU7c6bFcGi"
      },
      "source": [
        "With this initial data exploration achieved, we are now more familiar with the way data is represented, and relatively confident that Machine Learning is a good fit to solve our classification problem. We are now ready to experiment with different machine learning models, evaluate their accuracy and find the source of any potential issues.\n",
        "\n",
        "### Metrics\n",
        "\n",
        "First, it is vital to choose which metric to optimize. Accuracy (the % of correct classifications) is the most commonly used metric, but it is not always the right choice: if we are trying to detect fraudulent users on a website, which might constitute only 0.01% of the total number of users, a model that would classify **all** users as being non-fraudulent would have 99.99% accuracy! Because of this, we must carefully choose the right metric based on the task we are trying to solve.\n",
        "Here, we are dealing with a multi-class classification task (trying to assign one label to each document, out of a number of labels). Given the relative balance of our dataset, accuracy does seem like a good metric to optimize for. If one of the labels was more important than the others, we would then weight it higher, or focus on its own results. For imbalanced datasets such as the one described above, it is common to look at the [ROC curve](https://en.wikipedia.org/wiki/Receiver_operating_characteristic), and optimize the Area Under the Curve (ROC AUC)."
      ]
    },
    {
      "cell_type": "markdown",
      "metadata": {
        "id": "cKfc9Zy6hrEj"
      },
      "source": [
        "### Choice of model, and *no free lunch*\n",
        "\n",
        "`sklearn` provides implementations for a large number of machine learning models, spanning over different families:\n",
        "\n",
        "- Linear models: Linear Regression, Logistic Regression, ...\n",
        "- Ensemble models: Random Forest, Gradient Boosting Trees, Adaboost, ...\n",
        "- Bayesian models: (Multinomial/Gaussian/...) Naive Bayes, Gaussian Processes, ...\n",
        "- Support Vector Machines, k-Nearest Neighbors, and various other models.\n",
        "\n",
        "\n",
        "`sklearn` however does not implement deep learning models (implemented in other libraries: `tensorflow`, `theano`, `pytorch`, ...) or more specialized models such as Bayesian graphical models, or sequenced-based models (Markov Chain, Hidden Markov Model, ...).\n",
        "\n",
        "Ultimately, there is *no silver bullet*. This is a core principle of machine learning, illustrated by the *no free lunch* theorem: \"any two optimization algorithms are equivalent when their performance is averaged across all possible problems\", or in more practical terms: no model is universally superior to all other models, and the performance of a model greatly depends on the distribution of the data trained on and evaluated against.\n",
        "\n",
        "Hence, we will benchmark the following three models:\n",
        "\n",
        "- Logistic Regression: A linear classifier, mostly similar to traditional linear regression, but fitting the output of the logistic function.\n",
        "- (Multinomial) Naive Bayes: A Bayesian model, assuming total independence between features. In our case, this means assuming that `P(\"football\")` is unrelated to `P(\"stadium\")`, which of course is a terrible assumption... and yet, this model still works surprisingly well with Bag of Words model, and were notably used for spam detection. \n",
        "- Random Forest: Random Forest (as the name might suggest) is the ensembling of a large number of decision trees, each trained on a random subset of the input features. They work well when complex feature-relations are involved, and are relatively robust to overfitting. \n",
        "\n",
        "We usually also perform a **hyperparameter search** for each model: tuning each of its \"knobs\" (number of trees for Random Forest, penalty for Logistic Regression) until we find the optimal ones. For simplicity, we skip this step below and directly provide reasonably good parameters for each model."
      ]
    },
    {
      "cell_type": "markdown",
      "metadata": {
        "id": "pJ_l3zrQhuAv"
      },
      "source": [
        "### Model evaluation\n",
        "One common mistake when evaluating a model is to train and test it on the same dataset: this is problematic because you this will not evaluate how well the model works in realistic conditions, on unseen data, and models that overfit to the data will seem to perform better. \n",
        "\n",
        "It is common practice to split the data in three parts:\n",
        "1. A training set that the model will be trained on.\n",
        "1. A validation set used for finding the optimal parameters (as discussed previously).\n",
        "1. A test set to evaluate the model’s performance.\n",
        "\n",
        "Since we are not performing a hyperparameter search, we will only use a train/test split.\n",
        "\n",
        "To evaluate each model, we will use the K-fold cross-validation technique: iteratively training the model on different subsets of the data, and testing against the held-out data. scikit-learn provides a utility function, `cross_val_score`, that allows us to run this operation in a single line of code!"
      ]
    },
    {
      "cell_type": "markdown",
      "metadata": {
        "id": "ukL-IF2CnHa_"
      },
      "source": [
        "The results for the `RandomForest` model show a large variance, the sign of a model that is overfitting to its training data. Running cross-validation is vital, because results from a single train/test split might be misleading.\n",
        "We also notice that both `MultinomialNB` (Naive Bayes) and `LogisticRegression` perform extremely well, with `LogisticRegression` having a slight advantage with a median accuracy of around 97%!\n",
        "With such results, we could just pack our things and consider the task complete, but it’s good to apply a healthy dose of skepticism especially when results are this good."
      ]
    },
    {
      "cell_type": "markdown",
      "metadata": {
        "id": "KAqeT6er2cZA"
      },
      "source": [
        "**3.A A Few Other Models**"
      ]
    },
    {
      "cell_type": "code",
      "metadata": {
        "id": "mymOgqsY0vMn"
      },
      "source": [
        "from sklearn.model_selection import train_test_split\n",
        "from sklearn.metrics import accuracy_score\n",
        "from sklearn.metrics import confusion_matrix\n",
        "\n",
        "X_train, X_test, y_train, y_test, indices_train, indices_test = train_test_split(features, labels, dataset.index, test_size=0.33, random_state=0)\n",
        "X_train_tsne, X_test_tsne, y_train_tsne, y_test_tsne = train_test_split(features_tsne, labels_tsne, test_size=0.33, random_state=0)"
      ],
      "execution_count": null,
      "outputs": []
    },
    {
      "cell_type": "code",
      "metadata": {
        "colab": {
          "base_uri": "https://localhost:8080/"
        },
        "id": "Pu6Bm1UO2b5c",
        "outputId": "6a0bedcb-6877-4423-8e69-3277d6ffb364"
      },
      "source": [
        "from sklearn.neighbors import KNeighborsClassifier\n",
        "from sklearn.tree import DecisionTreeClassifier\n",
        "from sklearn.metrics import accuracy_score\n",
        "from sklearn.linear_model import SGDClassifier\n",
        "from sklearn.ensemble import RandomForestClassifier\n",
        "from sklearn.linear_model import LogisticRegression\n",
        "\n",
        "from sklearn.svm import SVC\n",
        "from sklearn.metrics import classification_report\n",
        "\n",
        "models = [\n",
        "          ('KNN', KNeighborsClassifier()), ('SVC', SVC()), \n",
        "          ('Random Forest', RandomForestClassifier(n_estimators=100, max_depth=3 )), ('Gradient Descent',SGDClassifier()), ('Logistic Regression', LogisticRegression(random_state=0))\n",
        "         ]\n",
        "for name, model in models:\n",
        "  model.fit(X_train, y_train)\n",
        "  y_pred= model.predict(X_test)\n",
        "  accuracy= accuracy_score(y_test, y_pred)\n",
        "  print (name, accuracy)"
      ],
      "execution_count": null,
      "outputs": [
        {
          "output_type": "stream",
          "name": "stdout",
          "text": [
            "KNN 0.9673469387755103\n",
            "SVC 0.9782312925170068\n",
            "Random Forest 0.8217687074829932\n",
            "Gradient Descent 0.9809523809523809\n",
            "Logistic Regression 0.9782312925170068\n"
          ]
        }
      ]
    },
    {
      "cell_type": "code",
      "metadata": {
        "colab": {
          "base_uri": "https://localhost:8080/"
        },
        "id": "VbNNDiKysrGg",
        "outputId": "61c2a039-4d65-4038-ed21-89f5e6992115"
      },
      "source": [
        "for name, model in models:\n",
        "  model.fit(X_train_tsne, y_train_tsne)\n",
        "  y_pred= model.predict(X_test_tsne)\n",
        "  accuracy= accuracy_score(y_test, y_pred)\n",
        "  print (name, accuracy)"
      ],
      "execution_count": null,
      "outputs": [
        {
          "output_type": "stream",
          "name": "stdout",
          "text": [
            "KNN 0.9605442176870749\n",
            "SVC 0.9510204081632653\n",
            "Random Forest 0.9428571428571428\n",
            "Gradient Descent 0.8326530612244898\n",
            "Logistic Regression 0.9469387755102041\n"
          ]
        }
      ]
    },
    {
      "cell_type": "markdown",
      "metadata": {
        "id": "UWZJZ9OyqCmJ"
      },
      "source": [
        "### 4. Model interpretation\n",
        "\n",
        "It is insufficient to have a model that performs well according to a given metric: we must also have a model that we can understand and whose results we can explain.\n",
        "\n",
        "We will start by training our model on part of the dataset, and then analyze the main sources of misclassification on the test set. One way to eliminate sources of error is to look at the confusion matrix, a matrix used to show the discrepancies between predicted and actual labels."
      ]
    },
    {
      "cell_type": "code",
      "metadata": {
        "colab": {
          "base_uri": "https://localhost:8080/",
          "height": 584
        },
        "id": "vei5d1l8OhNj",
        "outputId": "b66d39a7-65e2-4f30-b97a-fa1fe222701f"
      },
      "source": [
        "import seaborn as sns\n",
        "fig = plt.figure(figsize = (12,9))\n",
        "\n",
        "labels_ =['business', 'tech', 'sports', 'entertainment', 'politics']\n",
        "\n",
        "sns.heatmap(conf_mat, annot= True, fmt = '', cmap= 'Blues', xticklabels= labels_, yticklabels= labels_)\n",
        "\n",
        "plt.title ('Confusion Matrix')\n",
        "plt.xlabel(\"Predicted\")\n",
        "plt.ylabel(\"Actual\")"
      ],
      "execution_count": null,
      "outputs": [
        {
          "output_type": "execute_result",
          "data": {
            "text/plain": [
              "Text(87.0, 0.5, 'Actual')"
            ]
          },
          "metadata": {},
          "execution_count": 35
        },
        {
          "output_type": "display_data",
          "data": {
            "image/png": "[encoded data removed]",
            "text/plain": [
              "<Figure size 864x648 with 2 Axes>"
            ]
          },
          "metadata": {
            "needs_background": "light"
          }
        }
      ]
    },
    {
      "cell_type": "markdown",
      "metadata": {
        "id": "ylfJ2u4UrbDE"
      },
      "source": [
        "Given the extremely high accuracy of our model, the vast majority of the predictions end up on the diagonal (predicted label = actual label), where we want them to be! However, there are a number of misclassifications, and it might be interesting to see what those are caused by:"
      ]
    },
    {
      "cell_type": "code",
      "metadata": {
        "id": "M9Kiqrtf9Gep",
        "colab": {
          "base_uri": "https://localhost:8080/",
          "height": 494
        },
        "outputId": "efb2b88e-9688-4d59-dc9b-8b5029379134"
      },
      "source": [
        "from IPython.display import display\n",
        "\n",
        "for predicted in category_id_df.category_id:\n",
        "  for actual in category_id_df.category_id:\n",
        "    if predicted != actual and conf_mat[actual, predicted] >= 2:\n",
        "      print(\"'{}' predicted as '{}' : {} examples.\".format(id_to_category[actual], id_to_category[predicted], conf_mat[actual, predicted]))\n",
        "      display(df.loc[indices_test[(y_test == actual) & (y_pred == predicted)]][['title', 'content']])\n",
        "      print('')"
      ],
      "execution_count": null,
      "outputs": [
        {
          "output_type": "stream",
          "text": [
            "'business' predicted as 'politics' : 2 examples.\n"
          ],
          "name": "stdout"
        },
        {
          "output_type": "display_data",
          "data": {
            "text/plain": [
              "                                 title  \\\n",
              "1093  Crossrail link 'to get go-ahead'   \n",
              "1081  Golden rule boost for Chancellor   \n",
              "\n",
              "                                                content  \n",
              "1093  Crossrail link 'to get go-ahead'\\n\\nThe £10bn ...  \n",
              "1081  Golden rule boost for Chancellor\\n\\nChancellor...  "
            ],
            "text/html": [
              "<div>\n",
              "<style>\n",
              "    .dataframe thead tr:only-child th {\n",
              "        text-align: right;\n",
              "    }\n",
              "\n",
              "    .dataframe thead th {\n",
              "        text-align: left;\n",
              "    }\n",
              "\n",
              "    .dataframe tbody tr th {\n",
              "        vertical-align: top;\n",
              "    }\n",
              "</style>\n",
              "<table border=\"1\" class=\"dataframe\">\n",
              "  <thead>\n",
              "    <tr style=\"text-align: right;\">\n",
              "      <th></th>\n",
              "      <th>title</th>\n",
              "      <th>content</th>\n",
              "    </tr>\n",
              "  </thead>\n",
              "  <tbody>\n",
              "    <tr>\n",
              "      <th>1093</th>\n",
              "      <td>Crossrail link 'to get go-ahead'</td>\n",
              "      <td>Crossrail link 'to get go-ahead'\\n\\nThe £10bn ...</td>\n",
              "    </tr>\n",
              "    <tr>\n",
              "      <th>1081</th>\n",
              "      <td>Golden rule boost for Chancellor</td>\n",
              "      <td>Golden rule boost for Chancellor\\n\\nChancellor...</td>\n",
              "    </tr>\n",
              "  </tbody>\n",
              "</table>\n",
              "</div>"
            ]
          },
          "metadata": {
            "tags": []
          }
        },
        {
          "output_type": "stream",
          "text": [
            "\n",
            "'tech' predicted as 'business' : 5 examples.\n"
          ],
          "name": "stdout"
        },
        {
          "output_type": "display_data",
          "data": {
            "text/plain": [
              "                                 title  \\\n",
              "1955   US duo in first spam conviction   \n",
              "2065  PC ownership to 'double by 2010'   \n",
              "1942  Argonaut founder rebuilds empire   \n",
              "1999   US duo in first spam conviction   \n",
              "1937   Games maker fights for survival   \n",
              "\n",
              "                                                content  \n",
              "1955  US duo in first spam conviction\\n\\nA brother a...  \n",
              "2065  PC ownership to 'double by 2010'\\n\\nThe number...  \n",
              "1942  Argonaut founder rebuilds empire\\n\\nJez San, t...  \n",
              "1999  US duo in first spam conviction\\n\\nA brother a...  \n",
              "1937  Games maker fights for survival\\n\\nOne of Brit...  "
            ],
            "text/html": [
              "<div>\n",
              "<style>\n",
              "    .dataframe thead tr:only-child th {\n",
              "        text-align: right;\n",
              "    }\n",
              "\n",
              "    .dataframe thead th {\n",
              "        text-align: left;\n",
              "    }\n",
              "\n",
              "    .dataframe tbody tr th {\n",
              "        vertical-align: top;\n",
              "    }\n",
              "</style>\n",
              "<table border=\"1\" class=\"dataframe\">\n",
              "  <thead>\n",
              "    <tr style=\"text-align: right;\">\n",
              "      <th></th>\n",
              "      <th>title</th>\n",
              "      <th>content</th>\n",
              "    </tr>\n",
              "  </thead>\n",
              "  <tbody>\n",
              "    <tr>\n",
              "      <th>1955</th>\n",
              "      <td>US duo in first spam conviction</td>\n",
              "      <td>US duo in first spam conviction\\n\\nA brother a...</td>\n",
              "    </tr>\n",
              "    <tr>\n",
              "      <th>2065</th>\n",
              "      <td>PC ownership to 'double by 2010'</td>\n",
              "      <td>PC ownership to 'double by 2010'\\n\\nThe number...</td>\n",
              "    </tr>\n",
              "    <tr>\n",
              "      <th>1942</th>\n",
              "      <td>Argonaut founder rebuilds empire</td>\n",
              "      <td>Argonaut founder rebuilds empire\\n\\nJez San, t...</td>\n",
              "    </tr>\n",
              "    <tr>\n",
              "      <th>1999</th>\n",
              "      <td>US duo in first spam conviction</td>\n",
              "      <td>US duo in first spam conviction\\n\\nA brother a...</td>\n",
              "    </tr>\n",
              "    <tr>\n",
              "      <th>1937</th>\n",
              "      <td>Games maker fights for survival</td>\n",
              "      <td>Games maker fights for survival\\n\\nOne of Brit...</td>\n",
              "    </tr>\n",
              "  </tbody>\n",
              "</table>\n",
              "</div>"
            ]
          },
          "metadata": {
            "tags": []
          }
        },
        {
          "output_type": "stream",
          "text": [
            "\n",
            "'politics' predicted as 'tech' : 2 examples.\n"
          ],
          "name": "stdout"
        },
        {
          "output_type": "display_data",
          "data": {
            "text/plain": [
              "                                 title  \\\n",
              "309  MPs issued with Blackberry threat   \n",
              "122  MPs issued with Blackberry threat   \n",
              "\n",
              "                                               content  \n",
              "309  MPs issued with Blackberry threat\\n\\nMPs will ...  \n",
              "122  MPs issued with Blackberry threat\\n\\nMPs will ...  "
            ],
            "text/html": [
              "<div>\n",
              "<style>\n",
              "    .dataframe thead tr:only-child th {\n",
              "        text-align: right;\n",
              "    }\n",
              "\n",
              "    .dataframe thead th {\n",
              "        text-align: left;\n",
              "    }\n",
              "\n",
              "    .dataframe tbody tr th {\n",
              "        vertical-align: top;\n",
              "    }\n",
              "</style>\n",
              "<table border=\"1\" class=\"dataframe\">\n",
              "  <thead>\n",
              "    <tr style=\"text-align: right;\">\n",
              "      <th></th>\n",
              "      <th>title</th>\n",
              "      <th>content</th>\n",
              "    </tr>\n",
              "  </thead>\n",
              "  <tbody>\n",
              "    <tr>\n",
              "      <th>309</th>\n",
              "      <td>MPs issued with Blackberry threat</td>\n",
              "      <td>MPs issued with Blackberry threat\\n\\nMPs will ...</td>\n",
              "    </tr>\n",
              "    <tr>\n",
              "      <th>122</th>\n",
              "      <td>MPs issued with Blackberry threat</td>\n",
              "      <td>MPs issued with Blackberry threat\\n\\nMPs will ...</td>\n",
              "    </tr>\n",
              "  </tbody>\n",
              "</table>\n",
              "</div>"
            ]
          },
          "metadata": {
            "tags": []
          }
        },
        {
          "output_type": "stream",
          "text": [
            "\n"
          ],
          "name": "stdout"
        }
      ]
    },
    {
      "cell_type": "markdown",
      "metadata": {
        "id": "6pQwcaB3rtU8"
      },
      "source": [
        "As can be seen above, the misclassified articles are articles that touch on different subjects (for example, articles involving both politics and business) and might hence even be missclassified by humans. This sort of errors will always happen, and it is unrealistic to aim for a model that achieves 100% accuracy.\n",
        "\n",
        "We can also look deeper inside the model and how it works, by finding which terms contribute the most to a document being classified in each of the categories:"
      ]
    },
    {
      "cell_type": "code",
      "metadata": {
        "id": "kzO82ptUKMmA",
        "colab": {
          "base_uri": "https://localhost:8080/",
          "height": 85
        },
        "outputId": "6575f1b7-c069-4542-c091-1bdbc276ade4"
      },
      "source": [
        "model.fit(features, labels)"
      ],
      "execution_count": null,
      "outputs": [
        {
          "output_type": "execute_result",
          "data": {
            "text/plain": [
              "LogisticRegression(C=1.0, class_weight=None, dual=False, fit_intercept=True,\n",
              "          intercept_scaling=1, max_iter=100, multi_class='ovr', n_jobs=1,\n",
              "          penalty='l2', random_state=0, solver='liblinear', tol=0.0001,\n",
              "          verbose=0, warm_start=False)"
            ]
          },
          "metadata": {
            "tags": []
          },
          "execution_count": 41
        }
      ]
    },
    {
      "cell_type": "code",
      "metadata": {
        "id": "FRSFp-W8KMmE",
        "colab": {
          "base_uri": "https://localhost:8080/",
          "height": 1122
        },
        "outputId": "e912590d-6045-4204-edfe-8a8ead0a29de"
      },
      "source": [
        "from sklearn.feature_selection import chi2\n",
        "\n",
        "N = 5\n",
        "for category, category_id in sorted(category_to_id.iteritems()):\n",
        "  indices = np.argsort(model.coef_[category_id])\n",
        "  feature_names = np.array(tfidf.get_feature_names())[indices]\n",
        "  unigrams = [v for v in reversed(feature_names) if len(v.split(' ')) == 1][:N]\n",
        "  bigrams = [v for v in reversed(feature_names) if len(v.split(' ')) == 2][:N]\n",
        "  print(\"# '{}':\".format(category))\n",
        "  print(\"  . Top unigrams:\\n       . {}\".format('\\n       . '.join(unigrams)))\n",
        "  print(\"  . Top bigrams:\\n       . {}\".format('\\n       . '.join(bigrams)))"
      ],
      "execution_count": null,
      "outputs": [
        {
          "output_type": "stream",
          "text": [
            "# 'business':\n",
            "  . Top unigrams:\n",
            "       . company\n",
            "       . shares\n",
            "       . bank\n",
            "       . market\n",
            "       . firm\n",
            "  . Top bigrams:\n",
            "       . chief executive\n",
            "       . stock market\n",
            "       . analysts said\n",
            "       . economic growth\n",
            "       . oil prices\n",
            "# 'entertainment':\n",
            "  . Top unigrams:\n",
            "       . film\n",
            "       . music\n",
            "       . singer\n",
            "       . tv\n",
            "       . star\n",
            "  . Top bigrams:\n",
            "       . box office\n",
            "       . los angeles\n",
            "       . new york\n",
            "       . film festival\n",
            "       . big brother\n",
            "# 'politics':\n",
            "  . Top unigrams:\n",
            "       . labour\n",
            "       . party\n",
            "       . mr\n",
            "       . government\n",
            "       . election\n",
            "  . Top bigrams:\n",
            "       . mr blair\n",
            "       . tony blair\n",
            "       . prime minister\n",
            "       . general election\n",
            "       . mr brown\n",
            "# 'sport':\n",
            "  . Top unigrams:\n",
            "       . match\n",
            "       . cup\n",
            "       . club\n",
            "       . win\n",
            "       . game\n",
            "  . Top bigrams:\n",
            "       . year old\n",
            "       . australian open\n",
            "       . champions league\n",
            "       . world number\n",
            "       . bbc sport\n",
            "# 'tech':\n",
            "  . Top unigrams:\n",
            "       . computer\n",
            "       . users\n",
            "       . technology\n",
            "       . software\n",
            "       . online\n",
            "  . Top bigrams:\n",
            "       . said mr\n",
            "       . news website\n",
            "       . bbc news\n",
            "       . mobile phone\n",
            "       . mobile phones\n"
          ],
          "name": "stdout"
        }
      ]
    },
    {
      "cell_type": "markdown",
      "metadata": {
        "id": "dR7gPG1bsjPF"
      },
      "source": [
        "This seems consistent with the terms we would expect, with the exception of the \"tech\" category, where the bigrams **`\"bbc news\"`** and **`\"news website\"`** are some of the most predictive. We also see that the **`\"sport\"`** category includes **`\"bbc sport\"`** as one of the most predictive bigrams.\n",
        "\n",
        "This is confirmed by looking at the frequency of each category for articles containing **`\"news website\"`**:"
      ]
    },
    {
      "cell_type": "code",
      "metadata": {
        "id": "QOyYF6fdRc18",
        "colab": {
          "base_uri": "https://localhost:8080/",
          "height": 102
        },
        "outputId": "2903e229-c003-4dc2-e3d3-965db3db627d"
      },
      "source": [
        "df[df.content.str.lower().str.contains('news website')].category.value_counts()"
      ],
      "execution_count": null,
      "outputs": [
        {
          "output_type": "execute_result",
          "data": {
            "text/plain": [
              "tech             69\n",
              "politics          8\n",
              "entertainment     7\n",
              "business          1\n",
              "Name: category, dtype: int64"
            ]
          },
          "metadata": {
            "tags": []
          },
          "execution_count": 43
        }
      ]
    },
    {
      "cell_type": "markdown",
      "metadata": {
        "id": "KY7W_YW5s5Jw"
      },
      "source": [
        "What is most likely happening is that the editorial style of the **\"tech\"** section is different, and often includes ther terms **`\"bbc news\"`**  and **`\"news website\"`**, in the same way the sports section includes **`\"bbc sport\"`**.\n",
        "\n",
        "This is called a [**data leakage**](https://www.kaggle.com/wiki/Leakage), which is when information about the label we want to predict is accidentally added to the training set. In this specific case, our model still works equally good when excluding the leaky terms, but it's always good to be skeptical when a model performs unexpectedly well, hence the need for interpretable model instead of black-boxes that might work very well on the test set, but fail on real data.\n",
        "\n",
        "For the record, we can also confirm that the model works well on data unrelated to the BBC, as can be seen in the examples below:"
      ]
    },
    {
      "cell_type": "code",
      "metadata": {
        "id": "DvmxlZdJGITR",
        "colab": {
          "base_uri": "https://localhost:8080/",
          "height": 272
        },
        "outputId": "5cbf71b6-5604-47c8-9717-49f3cde38d0d"
      },
      "source": [
        "texts = [\"Hooli stock price soared after a dip in PiedPiper revenue growth.\",\n",
        "         \"Captain Tsubasa scores a magnificent goal for the Japanese team.\",\n",
        "         \"Merryweather mercenaries are sent on another mission, as government oversight groups call for new sanctions.\",\n",
        "         \"Beyoncé releases a new album, tops the charts in all of south-east Asia!\",\n",
        "         \"You won't guess what the latest trend in data analysis is!\"]\n",
        "text_features = tfidf.transform(texts)\n",
        "predictions = model.predict(text_features)\n",
        "for text, predicted in zip(texts, predictions):\n",
        "  print('\"{}\"'.format(text))\n",
        "  print(\"  - Predicted as: '{}'\".format(id_to_category[predicted]))\n",
        "  print(\"\")"
      ],
      "execution_count": null,
      "outputs": [
        {
          "output_type": "stream",
          "text": [
            "\"Hooli stock price soared after a dip in PiedPiper revenue growth.\"\n",
            "  - Predicted as: 'business'\n",
            "\n",
            "\"Captain Tsubasa scores a magnificent goal for the Japanese team.\"\n",
            "  - Predicted as: 'sport'\n",
            "\n",
            "\"Merryweather mercenaries are sent on another mission, as government oversight groups call for new sanctions.\"\n",
            "  - Predicted as: 'politics'\n",
            "\n",
            "\"Beyoncé releases a new album, tops the charts in all of south-east Asia!\"\n",
            "  - Predicted as: 'entertainment'\n",
            "\n",
            "\"You won't guess what the latest trend in data analysis is!\"\n",
            "  - Predicted as: 'tech'\n",
            "\n"
          ],
          "name": "stdout"
        }
      ]
    }
  ]
}